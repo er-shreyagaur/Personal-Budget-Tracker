{
 "cells": [
  {
   "cell_type": "code",
   "execution_count": 1,
   "id": "b9cc2ebe-eb72-4c6a-8b9c-1659f52253b6",
   "metadata": {},
   "outputs": [],
   "source": [
    "import csv\n",
    "import pandas as pd\n"
   ]
  },
  {
   "cell_type": "code",
   "execution_count": 2,
   "id": "4158a92e-7b56-453c-862a-50df864a0470",
   "metadata": {},
   "outputs": [],
   "source": [
    "def initialize_csv(file_name):\n",
    "    with open(file_name, 'w', newline='') as file:\n",
    "        writer = csv.writer(file)\n",
    "        # Writing the header of the CSV file\n",
    "        writer.writerow([\"Date\", \"Category\", \"Description\", \"Amount\"])\n",
    "    print(f\"CSV file '{file_name}' initialized with headers.\")\n"
   ]
  },
  {
   "cell_type": "code",
   "execution_count": 3,
   "id": "df160c84-10d9-4332-b4cc-94e3c12c0021",
   "metadata": {},
   "outputs": [],
   "source": [
    "# Function to add a transaction\n",
    "def add_transaction(file_name, date, category, description, amount):\n",
    "    with open(file_name, 'a', newline='') as file:\n",
    "        writer = csv.writer(file)\n",
    "        writer.writerow([date, category, description, amount])\n",
    "    print(f\"Transaction added: {description} of Rs.{amount} under {category} on {date}\")\n"
   ]
  },
  {
   "cell_type": "code",
   "execution_count": 4,
   "id": "ff0b9ee9-f58c-4525-8d72-a2b06799a62d",
   "metadata": {},
   "outputs": [],
   "source": [
    "def view_transactions(file_name):\n",
    "    try:\n",
    "        df = pd.read_csv(file_name)\n",
    "        print(df)\n",
    "    except FileNotFoundError:\n",
    "        print(f\"The file '{file_name}' does not exist. Please initialize the CSV file first.\")"
   ]
  },
  {
   "cell_type": "code",
   "execution_count": 5,
   "id": "fcb9ce3c-47d5-442b-b788-848b7b361d1d",
   "metadata": {},
   "outputs": [],
   "source": [
    "def calculate_total_expenses(file_name):\n",
    "    try:\n",
    "        df = pd.read_csv(file_name)\n",
    "        total = df['Amount'].sum()\n",
    "        print(f\"Total expenses: Rs.{total}\")\n",
    "    except FileNotFoundError:\n",
    "        print(f\"The file '{file_name}' does not exist. Please initialize the CSV file first.\")"
   ]
  },
  {
   "cell_type": "code",
   "execution_count": 6,
   "id": "59827abf-0628-442a-8b82-1747497bf01d",
   "metadata": {},
   "outputs": [
    {
     "name": "stdout",
     "output_type": "stream",
     "text": [
      "CSV file 'personal_budget.csv' initialized with headers.\n"
     ]
    }
   ],
   "source": [
    "file_name = \"personal_budget.csv\"\n",
    "initialize_csv(file_name)"
   ]
  },
  {
   "cell_type": "code",
   "execution_count": 7,
   "id": "cb01c287-43e2-4700-9689-d6f858284a78",
   "metadata": {},
   "outputs": [
    {
     "name": "stdout",
     "output_type": "stream",
     "text": [
      "Transaction added: Bought clothes of Rs.1500 under Clothes on 2024-10-16\n",
      "Transaction added: Bought stationery items of Rs.500 under Stationary on 2024-10-18\n",
      "Transaction added: Bought utensils of Rs.500 under Utensils on 2024-10-20\n",
      "Transaction added: Bought earphones of Rs.1000 under Electronics on 2024-10-25\n",
      "         Date     Category              Description  Amount\n",
      "0  2024-10-16      Clothes           Bought clothes    1500\n",
      "1  2024-10-18   Stationary  Bought stationery items     500\n",
      "2  2024-10-20     Utensils          Bought utensils     500\n",
      "3  2024-10-25  Electronics         Bought earphones    1000\n"
     ]
    }
   ],
   "source": [
    "# Adding multiple transactions to the CSV file\n",
    "add_transaction(file_name, \"2024-10-16\", \"Clothes\", \"Bought clothes\", 1500)\n",
    "add_transaction(file_name, \"2024-10-18\", \"Stationary\", \"Bought stationery items\", 500)\n",
    "add_transaction(file_name, \"2024-10-20\", \"Utensils\", \"Bought utensils\", 500)\n",
    "add_transaction(file_name, \"2024-10-25\", \"Electronics\", \"Bought earphones\", 1000)\n",
    "\n",
    "# View the updated transactions\n",
    "view_transactions(file_name)\n"
   ]
  },
  {
   "cell_type": "code",
   "execution_count": 8,
   "id": "c4c02362-41f1-4de6-a087-2630fe701088",
   "metadata": {},
   "outputs": [
    {
     "name": "stdout",
     "output_type": "stream",
     "text": [
      "         Date     Category              Description  Amount\n",
      "0  2024-10-16      Clothes           Bought clothes    1500\n",
      "1  2024-10-18   Stationary  Bought stationery items     500\n",
      "2  2024-10-20     Utensils          Bought utensils     500\n",
      "3  2024-10-25  Electronics         Bought earphones    1000\n"
     ]
    }
   ],
   "source": [
    "def view_transactions(filename):\n",
    "    df = pd.read_csv(filename)\n",
    "    print(df)\n",
    "\n",
    "# Viewing all transactions\n",
    "view_transactions(file_name)\n"
   ]
  },
  {
   "cell_type": "code",
   "execution_count": 9,
   "id": "2611e0b8-4739-4bbc-a40d-1ec0b99e3329",
   "metadata": {},
   "outputs": [
    {
     "name": "stdout",
     "output_type": "stream",
     "text": [
      "Category\n",
      "Clothes        1500\n",
      "Electronics    1000\n",
      "Stationary      500\n",
      "Utensils        500\n",
      "Name: Amount, dtype: int64\n"
     ]
    }
   ],
   "source": [
    "def calculate_total_by_category(filename):\n",
    "    df = pd.read_csv(filename)\n",
    "    total_by_category = df.groupby('Category')['Amount'].sum()\n",
    "    print(total_by_category)\n",
    "\n",
    "# Example of calculating total expenses by category\n",
    "calculate_total_by_category(file_name)\n"
   ]
  },
  {
   "cell_type": "code",
   "execution_count": 10,
   "id": "435b0328-aa7e-45bb-9b4a-66717f469753",
   "metadata": {},
   "outputs": [
    {
     "name": "stdout",
     "output_type": "stream",
     "text": [
      "Total Income: 10000, Total Expenses: 3500, Balance: 6500\n"
     ]
    }
   ],
   "source": [
    "def calculate_balance(filename, total_income):\n",
    "    df = pd.read_csv(filename)\n",
    "    total_expenses = df['Amount'].sum()\n",
    "    balance = total_income - total_expenses\n",
    "    print(f\"Total Income: {total_income}, Total Expenses: {total_expenses}, Balance: {balance}\")\n",
    "\n",
    "# Example of tracking balance\n",
    "calculate_balance(file_name, 10000)\n"
   ]
  },
  {
   "cell_type": "code",
   "execution_count": null,
   "id": "26e094f4-594f-4b1e-b531-a3eb3aa0f71e",
   "metadata": {},
   "outputs": [],
   "source": []
  }
 ],
 "metadata": {
  "kernelspec": {
   "display_name": "Python 3 (ipykernel)",
   "language": "python",
   "name": "python3"
  },
  "language_info": {
   "codemirror_mode": {
    "name": "ipython",
    "version": 3
   },
   "file_extension": ".py",
   "mimetype": "text/x-python",
   "name": "python",
   "nbconvert_exporter": "python",
   "pygments_lexer": "ipython3",
   "version": "3.10.11"
  }
 },
 "nbformat": 4,
 "nbformat_minor": 5
}
